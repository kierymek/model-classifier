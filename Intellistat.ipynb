{
 "cells": [
  {
   "cell_type": "code",
   "execution_count": 1,
   "metadata": {},
   "outputs": [],
   "source": [
    "import numpy as np\n",
    "from random import random\n",
    "import torch\n",
    "from torch.optim import Adam\n",
    "from torch.utils.data import DataLoader\n",
    "from DatasetCreator import DatasetCreator\n",
    "from tqdm import tqdm\n",
    "\n",
    "from matplotlib import pyplot as plt\n",
    "\n",
    "class ENN():\n",
    "    def __init__ (self):\n",
    "        self.model = torch.nn.Sequential(\n",
    "            torch.nn.Linear(1,5),\n",
    "            torch.nn.ReLU(),\n",
    "            torch.nn.Linear(5,1)\n",
    "        )\n",
    "        self.optimizer = Adam(self.model.parameters(), lr = 0.001)\n",
    "\n",
    "    def train_step(self, x, y, criterion):\n",
    "        self.model.zero_grad()\n",
    "        #print(x, y)\n",
    "        x = x.float()\n",
    "        y = y.float()\n",
    "        x = x.view(-1,1)\n",
    "        y = y.view(-1,1)\n",
    "        #print(x,y)\n",
    "        output = self.model(x)\n",
    "        loss = criterion(output, y)\n",
    "        loss.backward()\n",
    "        self.optimizer.step()\n",
    "\n",
    "    def train(self, data, epochs, batch):\n",
    "        data_train = DataLoader(dataset = data, batch_size = batch, shuffle = True)\n",
    "        criterion = torch.nn.MSELoss()\n",
    "        for epoch in range(epochs):\n",
    "            for dummy, batch in enumerate(data_train):\n",
    "                x_train, y_train = batch['input'], batch['output']\n",
    "                #print(y_train)\n",
    "                self.train_step(x_train, y_train, criterion)\n"
   ]
  },
  {
   "cell_type": "code",
   "execution_count": 3,
   "metadata": {},
   "outputs": [],
   "source": [
    "def main():\n",
    "    EvolutionalNN = ENN()\n",
    "    #for param_tensor in EvolutionalNN.model.state_dict():\n",
    "        #print(param_tensor, \"\\t\", EvolutionalNN.model.state_dict()[param_tensor][0])\n",
    "\n",
    "    X_data = [not_biased_x_point + 3 * (random() - 0.5) for not_biased_x_point in range(50)]\n",
    "    #Y_tensor = torch.tensor(Y_tensor)\n",
    "    Y_data = [ (2 * x_point  + 2 + 10 * (random() - 0.5) ) for x_point in X_data]\n",
    "    X_tensor = [[x] for x in X_data]\n",
    "    X_tensor = torch.tensor(X_tensor)\n",
    "\n",
    "    Dataset = DatasetCreator(X_data, \"linear\", [2, 2])\n",
    "    EvolutionalNN.train(Dataset, 200, 5 )\n",
    "\n",
    "\n",
    "    Y_NN = EvolutionalNN.model(X_tensor)\n",
    "    Y_NN = Y_NN.detach().numpy()\n",
    "\n",
    "    fig, ax = plt.subplots()\n",
    "    ax.plot(X_data, Y_data, 'ko', label = \"Data points\")\n",
    "    ax.plot(X_data, Y_NN, 'blue', label = \"Evolutional NN\")\n",
    "    leg = ax.legend(loc = 'upper left', prop={'size':7})\n",
    "    plt.show()\n"
   ]
  },
  {
   "cell_type": "code",
   "execution_count": 4,
   "metadata": {},
   "outputs": [
    {
     "data": {
      "image/png": "[encoded data removed]",
      "text/plain": [
       "<Figure size 432x288 with 1 Axes>"
      ]
     },
     "metadata": {
      "needs_background": "light"
     },
     "output_type": "display_data"
    }
   ],
   "source": [
    "if __name__ == \"__main__\" :\n",
    "    main()"
   ]
  },
  {
   "cell_type": "code",
   "execution_count": null,
   "metadata": {},
   "outputs": [],
   "source": []
  }
 ],
 "metadata": {
  "kernelspec": {
   "display_name": "Python 3",
   "language": "python",
   "name": "python3"
  },
  "language_info": {
   "codemirror_mode": {
    "name": "ipython",
    "version": 3
   },
   "file_extension": ".py",
   "mimetype": "text/x-python",
   "name": "python",
   "nbconvert_exporter": "python",
   "pygments_lexer": "ipython3",
   "version": "3.7.10"
  }
 },
 "nbformat": 4,
 "nbformat_minor": 4
}
